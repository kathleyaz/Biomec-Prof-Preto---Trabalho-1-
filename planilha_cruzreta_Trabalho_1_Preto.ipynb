{
  "nbformat": 4,
  "nbformat_minor": 0,
  "metadata": {
    "colab": {
      "provenance": [],
      "authorship_tag": "ABX9TyOM/XqqJMSUqJIu2SrD60yA",
      "include_colab_link": true
    },
    "kernelspec": {
      "name": "python3",
      "display_name": "Python 3"
    },
    "language_info": {
      "name": "python"
    }
  },
  "cells": [
    {
      "cell_type": "markdown",
      "metadata": {
        "id": "view-in-github",
        "colab_type": "text"
      },
      "source": [
        "<a href=\"https://colab.research.google.com/github/kathleyaz/Biomec-Prof-Preto---Trabalho-1-/blob/main/planilha_cruzreta_Trabalho_1_Preto.ipynb\" target=\"_parent\"><img src=\"https://colab.research.google.com/assets/colab-badge.svg\" alt=\"Open In Colab\"/></a>"
      ]
    },
    {
      "cell_type": "markdown",
      "source": [
        "**Passar a planilha cruzreta.xlsx para um script que faça a mesma coisa da planilha, mas de forma intuitiva e simplificada para o usuário.**"
      ],
      "metadata": {
        "id": "fba7aEIPARwW"
      }
    },
    {
      "cell_type": "code",
      "source": [
        "#1Cam\n",
        "print(\"Me informe os Dados da Camera 1\")\n",
        "xc1 = float(input(\"Digite a coordenada x da camera 1, por gentileza: \"))\n",
        "yc1 = float(input(\"Digite a coordenada y da camera 1, por gentileza: \"))"
      ],
      "metadata": {
        "id": "OZPbgOp6AWTV"
      },
      "execution_count": null,
      "outputs": []
    },
    {
      "cell_type": "code",
      "source": [
        "#1Proj\n",
        "print(\"Me informe os Dados da Projeção da Camera 1\")\n",
        "xp1 = float(input(\"Digite a coordenada x da projeção da camera 1, por gentileza: \"))\n",
        "yp1 = float(input(\"Digite a coordenada y da projeção da camera 1, por gentileza: \"))"
      ],
      "metadata": {
        "id": "QpFr5gAzAeVv"
      },
      "execution_count": null,
      "outputs": []
    },
    {
      "cell_type": "code",
      "source": [
        "#2Cam\n",
        "print(\"Me informe os Dados da Camera 2\")\n",
        "xc2 = float(input(\"Digite a coordenada x da camera 2,por gentileza: \"))\n",
        "yc2 = float(input(\"Digite a coordenada y da camera 2,por gentileza: \"))"
      ],
      "metadata": {
        "id": "sKsqjLdfAlvW"
      },
      "execution_count": null,
      "outputs": []
    },
    {
      "cell_type": "code",
      "source": [
        "#2Proj\n",
        "print(\"Me informe os Dados da Projeção da Camera 2\")\n",
        "xp2 = float(input(\"Digite a coordenada x da projeção da camera 2, por gentileza: \"))\n",
        "yp2 = float(input(\"Digite a coordenada y da projeção da camera 2, por gentileza: \"))"
      ],
      "metadata": {
        "id": "SnUXGydbAnUG"
      },
      "execution_count": null,
      "outputs": []
    },
    {
      "cell_type": "markdown",
      "source": [
        "*Me Informe os Dados da Camera 1*\n",
        "\n",
        "Digite a coordenada x da camera 1: **1.5**\n",
        "\n",
        "Digite a coordenada y da camera 1: **2**\n",
        "\n",
        "*Me informe os Dados da Projeção da Camera *\n",
        "\n",
        "Digite a coordenada x da projeção da camera 1:** 2.1**\n",
        "\n",
        "Digite a coordenada y da projeção da camera 1: **2**\n",
        "\n",
        "*Me informe os Dados da Camera 2*\n",
        "\n",
        "Digite a coordenada x da camera 2: **1**\n",
        "\n",
        "Digite a coordenada y da camera 2:** 1**\n",
        "\n",
        "*Me informe os Dados da Projeção da Camera 2*\n",
        "\n",
        "Digite a coordenada x da projeção da camera 2: **2**\n",
        "\n",
        "Digite a coordenada y da projeção da camera 2: **2**"
      ],
      "metadata": {
        "id": "329kVWmfAsjx"
      }
    },
    {
      "cell_type": "code",
      "source": [
        "import matplotlib.pyplot as plt\n",
        "import numpy as np\n",
        "\n",
        "\n",
        "mr1 = (yp1 - yc1) / (xp1 - xc1)\n",
        "mr2 = (yp2 - yc2) / (xp2 - xc2)\n",
        "\n",
        "br1 = -1 * (mr1 * xc1 - yc1) # coeficiente linear de r1\n",
        "br2 = -1 * (mr2 * xc2 - yc2) # coeficiente linear de r2\n",
        "\n",
        " #r1 = mr1*xc1 + br1\n",
        " #r2= mr2*xc1 + br1\n",
        "\n",
        "#ponto do cruzamento\n",
        "xi = (-(mr2*xc2) + yc2 + (mr1*xc1) - yc1) / (mr1 - mr2) #x do cruzamento\n",
        "\n",
        "yi = (mr1*xi)  - (mr1*xc1) + yc1 #y do cruzamento\n",
        "\n",
        "#Posição do objeto reconstruído\n",
        "print(\"xi =\", xi)\n",
        "print(\"yi =\", yi)\n",
        "\n",
        "\n",
        "#Grafico\n",
        "x1 = np.linspace(0,3,100)\n",
        "y1 = mr1*x1 +br1\n",
        "\n",
        "x2 = np.linspace(0,3,100)\n",
        "y2 = mr2*x2 +br2\n",
        "\n",
        "plt.plot(x1,y1)\n",
        "plt.plot(x2,y2)\n",
        "plt.scatter(xi,yi, color = 'green') #Posição do objeto no plano xy - representada pelo ponto verde\n",
        "plt.scatter(xc1,yc1, color = 'red') #Posição da câmera 1 no plano xy - representada pelo ponto vermelho\n",
        "plt.scatter(xc2,yc2, color = 'purple') #Posição da câmera 2 no plano xy - representada pelo ponto roxo\n",
        "\n",
        "plt.xlabel('x - axis')\n",
        "plt.ylabel('y - axis')\n",
        "plt.title(\"Cruzamento de retas\")\n",
        "plt.show()\n",
        "\n",
        "#r1 = yc1 + mr1(x - xc1)\n",
        "#r2 = yc2 + mr2(x - xc2)\n"
      ],
      "metadata": {
        "id": "Ta0ek2RiAuSw"
      },
      "execution_count": null,
      "outputs": []
    },
    {
      "cell_type": "markdown",
      "source": [
        "xi = 2.0\n",
        "yi = 2.0"
      ],
      "metadata": {
        "id": "-_jovPGHC6J8"
      }
    },
    {
      "cell_type": "markdown",
      "source": [
        "![biomec1preto.png](data:image/png;base64,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)"
      ],
      "metadata": {
        "id": "GaAZMnfhAznS"
      }
    }
  ]
}